{
 "cells": [
  {
   "cell_type": "code",
   "execution_count": 2,
   "id": "c8a7e4fa",
   "metadata": {},
   "outputs": [
    {
     "name": "stdout",
     "output_type": "stream",
     "text": [
      "Q . . . . . . .\n",
      ". . . . . . Q .\n",
      ". . . . Q . . .\n",
      ". . . . . . . Q\n",
      ". Q . . . . . .\n",
      ". . . Q . . . .\n",
      ". . . . . Q . .\n",
      ". . Q . . . . .\n"
     ]
    },
    {
     "data": {
      "text/plain": [
       "True"
      ]
     },
     "execution_count": 2,
     "metadata": {},
     "output_type": "execute_result"
    }
   ],
   "source": [
    "# Define the size of the chessboard\n",
    "N = 8\n",
    "\n",
    "# Initialize the chessboard\n",
    "board = [[0] * N for _ in range(N)]\n",
    "\n",
    "# Function to print the solution\n",
    "def print_solution(board):\n",
    "    for row in board:\n",
    "        print(' '.join('Q' if x else '.' for x in row))\n",
    "\n",
    "# Function to check if a queen can be placed on board[row][col]\n",
    "def is_safe(board, row, col):\n",
    "    # Check the column on the left\n",
    "    for i in range(col):\n",
    "        if board[row][i] == 1:\n",
    "            return False\n",
    "    \n",
    "    # Check upper diagonal on the left\n",
    "    for i, j in zip(range(row, -1, -1), range(col, -1, -1)):\n",
    "        if board[i][j] == 1:\n",
    "            return False\n",
    "    \n",
    "    # Check lower diagonal on the left\n",
    "    for i, j in zip(range(row, N, 1), range(col, -1, -1)):\n",
    "        if board[i][j] == 1:\n",
    "            return False\n",
    "    \n",
    "    # The position is safe for placing a queen\n",
    "    return True\n",
    "\n",
    "# Recursive utility function to solve N Queen problem\n",
    "def solve_nq_util(board, col):\n",
    "    # Base case: If all queens are placed, return true\n",
    "    if col >= N:\n",
    "        return True\n",
    "    \n",
    "    # Consider this column and try placing this queen in all rows one by one\n",
    "    for i in range(N):\n",
    "        # Check if the queen can be placed on board[i][col]\n",
    "        if is_safe(board, i, col):\n",
    "            # Place this queen in board[i][col]\n",
    "            board[i][col] = 1\n",
    "            \n",
    "            # Recur to place the rest of the queens\n",
    "            if solve_nq_util(board, col + 1) == True:\n",
    "                return True\n",
    "            \n",
    "            # If placing queen in board[i][col] doesn't lead to a solution, then backtrack\n",
    "            board[i][col] = 0\n",
    "    \n",
    "    # If the queen cannot be placed in any row in this column, return false\n",
    "    return False\n",
    "\n",
    "# Function to solve the N Queen problem using the backtracking approach\n",
    "def solve_nq():\n",
    "    if not solve_nq_util(board, 0):\n",
    "        print(\"Solution does not exist\")\n",
    "        return False\n",
    "    \n",
    "    print_solution(board)\n",
    "    return True\n",
    "\n",
    "# Execute the algorithm\n",
    "solve_nq()"
   ]
  },
  {
   "cell_type": "code",
   "execution_count": 1,
   "id": "b5c70d60",
   "metadata": {},
   "outputs": [
    {
     "name": "stdout",
     "output_type": "stream",
     "text": [
      "Q . . . . . . . . . . . . . . .\n",
      ". . . Q . . . . . . . . . . . .\n",
      ". Q . . . . . . . . . . . . . .\n",
      ". . . . . . . . . . . . Q . . .\n",
      ". . Q . . . . . . . . . . . . .\n",
      ". . . . . . . . . Q . . . . . .\n",
      ". . . . . . . . . . . Q . . . .\n",
      ". . . . . . . . . . . . . . Q .\n",
      ". . . . . Q . . . . . . . . . .\n",
      ". . . . . . . . . . . . . . . Q\n",
      ". . . . . . . . . . . . . Q . .\n",
      ". . . . . . . Q . . . . . . . .\n",
      ". . . . Q . . . . . . . . . . .\n",
      ". . . . . . Q . . . . . . . . .\n",
      ". . . . . . . . Q . . . . . . .\n",
      ". . . . . . . . . . Q . . . . .\n"
     ]
    },
    {
     "data": {
      "text/plain": [
       "True"
      ]
     },
     "execution_count": 1,
     "metadata": {},
     "output_type": "execute_result"
    }
   ],
   "source": [
    "# Define the size of the chessboard\n",
    "N = 16\n",
    "# Initialize the chessboard\n",
    "board = [[0] * N for _ in range(N)]\n",
    "\n",
    "# Function to print the solution\n",
    "def print_solution(board):\n",
    "    for row in board:\n",
    "        print(' '.join('Q' if x else '.' for x in row))\n",
    "\n",
    "# Function to check if a queen can be placed on board[row][col]\n",
    "def is_safe(board, row, col):\n",
    "    # Check the column on the left\n",
    "    for i in range(col):\n",
    "        if board[row][i] == 1:\n",
    "            return False\n",
    "    \n",
    "    # Check upper diagonal on the left\n",
    "    for i, j in zip(range(row, -1, -1), range(col, -1, -1)):\n",
    "        if board[i][j] == 1:\n",
    "            return False\n",
    "    \n",
    "    # Check lower diagonal on the left\n",
    "    for i, j in zip(range(row, N, 1), range(col, -1, -1)):\n",
    "        if board[i][j] == 1:\n",
    "            return False\n",
    "    \n",
    "    # The position is safe for placing a queen\n",
    "    return True\n",
    "\n",
    "# Recursive utility function to solve N Queen problem\n",
    "def solve_nq_util(board, col):\n",
    "    # Base case: If all queens are placed, return true\n",
    "    if col >= N:\n",
    "        return True\n",
    "    \n",
    "    # Consider this column and try placing this queen in all rows one by one\n",
    "    for i in range(N):\n",
    "        # Check if the queen can be placed on board[i][col]\n",
    "        if is_safe(board, i, col):\n",
    "            # Place this queen in board[i][col]\n",
    "            board[i][col] = 1\n",
    "            \n",
    "            # Recur to place the rest of the queens\n",
    "            if solve_nq_util(board, col + 1) == True:\n",
    "                return True\n",
    "            \n",
    "            # If placing queen in board[i][col] doesn't lead to a solution, then backtrack\n",
    "            board[i][col] = 0\n",
    "    \n",
    "    # If the queen cannot be placed in any row in this column, return false\n",
    "    return False\n",
    "\n",
    "# Function to solve the N Queen problem using the backtracking approach\n",
    "def solve_nq():\n",
    "    if not solve_nq_util(board, 0):\n",
    "        print(\"Solution does not exist\")\n",
    "        return False\n",
    "    \n",
    "    print_solution(board)\n",
    "    return True\n",
    "\n",
    "# Execute the algorithm\n",
    "solve_nq()"
   ]
  },
  {
   "cell_type": "code",
   "execution_count": null,
   "id": "25913b01",
   "metadata": {},
   "outputs": [],
   "source": []
  }
 ],
 "metadata": {
  "kernelspec": {
   "display_name": "Python 3 (ipykernel)",
   "language": "python",
   "name": "python3"
  },
  "language_info": {
   "codemirror_mode": {
    "name": "ipython",
    "version": 3
   },
   "file_extension": ".py",
   "mimetype": "text/x-python",
   "name": "python",
   "nbconvert_exporter": "python",
   "pygments_lexer": "ipython3",
   "version": "3.11.5"
  }
 },
 "nbformat": 4,
 "nbformat_minor": 5
}
