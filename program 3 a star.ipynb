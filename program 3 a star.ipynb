{
 "cells": [
  {
   "cell_type": "code",
   "execution_count": 1,
   "id": "2ca94508",
   "metadata": {},
   "outputs": [
    {
     "name": "stdout",
     "output_type": "stream",
     "text": [
      "Path found: ['A', 'B', 'D']\n"
     ]
    },
    {
     "data": {
      "text/plain": [
       "['A', 'B', 'D']"
      ]
     },
     "execution_count": 1,
     "metadata": {},
     "output_type": "execute_result"
    }
   ],
   "source": [
    "from collections import deque\n",
    "\n",
    "\n",
    "class Graph:\n",
    "    def __init__(self, adjac_lis):\n",
    "        self.adjac_lis = adjac_lis\n",
    "\n",
    "    def get_neighbors(self, v):\n",
    "        return self.adjac_lis[v]\n",
    "\n",
    "    def h(self, n):\n",
    "        H = {\n",
    "            'A': 1,\n",
    "            'B': 1,\n",
    "            'C': 1,\n",
    "            'D': 1\n",
    "        }\n",
    "        return H[n]\n",
    "\n",
    "    def a_star_algorithm(self, start, stop):\n",
    "        open_1st = set([start])\n",
    "        closed_1st = set([])\n",
    "        poo = {}\n",
    "        poo[start] = 0\n",
    "        par = {}\n",
    "        par[start] = start\n",
    "\n",
    "        while len(open_1st) > 0:\n",
    "            n = None\n",
    "            for v in open_1st:\n",
    "                if n is None or poo[v] + self.h(v) < poo[n] + self.h(n):\n",
    "                    n = v\n",
    "\n",
    "            if n is None:\n",
    "                print(\"Path does not exist\")\n",
    "                return None\n",
    "\n",
    "            if n == stop:\n",
    "                reconst_path = []\n",
    "\n",
    "                while par[n] != n:\n",
    "                    reconst_path.append(n)\n",
    "                    n = par[n]\n",
    "\n",
    "                reconst_path.append(start)\n",
    "                reconst_path.reverse()\n",
    "\n",
    "                print(\"Path found: {}\".format(reconst_path))\n",
    "                return reconst_path\n",
    "\n",
    "            for (m, weight) in self.get_neighbors(n):\n",
    "                if m not in open_1st and m not in closed_1st:\n",
    "                    open_1st.add(m)\n",
    "                    par[m] = n\n",
    "                    poo[m] = poo[n] + weight\n",
    "\n",
    "                else:\n",
    "                    if poo[m] > poo[n] + weight:\n",
    "                        poo[m] = poo[n] + weight\n",
    "                        par[m] = n\n",
    "\n",
    "                        if m in closed_1st:\n",
    "                            closed_1st.remove(m)\n",
    "                            open_1st.add(m)\n",
    "\n",
    "            open_1st.remove(n)\n",
    "            closed_1st.add(n)\n",
    "\n",
    "        print('Path does not exist!')\n",
    "        return None\n",
    "\n",
    "\n",
    "# Input:\n",
    "adjac_lis = {\n",
    "    'A': [('B', 1), ('C', 3), ('D', 7)],\n",
    "    'B': [('D', 5)],\n",
    "    'C': [('D', 12)]\n",
    "}\n",
    "graph1 = Graph(adjac_lis)\n",
    "graph1.a_star_algorithm('A', 'D')"
   ]
  },
  {
   "cell_type": "code",
   "execution_count": null,
   "id": "73a4fdd4",
   "metadata": {},
   "outputs": [],
   "source": []
  }
 ],
 "metadata": {
  "kernelspec": {
   "display_name": "Python 3 (ipykernel)",
   "language": "python",
   "name": "python3"
  },
  "language_info": {
   "codemirror_mode": {
    "name": "ipython",
    "version": 3
   },
   "file_extension": ".py",
   "mimetype": "text/x-python",
   "name": "python",
   "nbconvert_exporter": "python",
   "pygments_lexer": "ipython3",
   "version": "3.11.5"
  }
 },
 "nbformat": 4,
 "nbformat_minor": 5
}
